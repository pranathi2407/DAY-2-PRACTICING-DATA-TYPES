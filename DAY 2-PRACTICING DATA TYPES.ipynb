{
 "cells": [
  {
   "cell_type": "markdown",
   "id": "57e7843e",
   "metadata": {},
   "source": [
    "# Write a program in Jupyter Notebook to declare variables of different data types (integer, float, string, and boolean). Print each variable and its type."
   ]
  },
  {
   "cell_type": "code",
   "execution_count": 2,
   "id": "3a65179b",
   "metadata": {},
   "outputs": [
    {
     "name": "stdout",
     "output_type": "stream",
     "text": [
      "Integer Variable:  10 Type: <class 'int'>\n",
      "Float Variable:  3.14 Type: <class 'float'>\n",
      "String Variable:  Hello, Jupyter! Type: <class 'str'>\n",
      "Boolean Variable:  True Type: <class 'bool'>\n"
     ]
    }
   ],
   "source": [
    "# Declare variables of different data types\n",
    "integer_var = 10\n",
    "float_var = 3.14\n",
    "string_var = \"Hello, Jupyter!\"\n",
    "boolean_var = True\n",
    "\n",
    "# Print each variable and its type\n",
    "print(\"Integer Variable: \", integer_var, \"Type:\", type(integer_var))\n",
    "print(\"Float Variable: \", float_var, \"Type:\", type(float_var))\n",
    "print(\"String Variable: \", string_var, \"Type:\", type(string_var))\n",
    "print(\"Boolean Variable: \", boolean_var, \"Type:\", type(boolean_var))\n"
   ]
  },
  {
   "cell_type": "code",
   "execution_count": null,
   "id": "6cd56947",
   "metadata": {},
   "outputs": [],
   "source": []
  }
 ],
 "metadata": {
  "kernelspec": {
   "display_name": "Python 3 (ipykernel)",
   "language": "python",
   "name": "python3"
  },
  "language_info": {
   "codemirror_mode": {
    "name": "ipython",
    "version": 3
   },
   "file_extension": ".py",
   "mimetype": "text/x-python",
   "name": "python",
   "nbconvert_exporter": "python",
   "pygments_lexer": "ipython3",
   "version": "3.9.13"
  }
 },
 "nbformat": 4,
 "nbformat_minor": 5
}
